{
 "metadata": {
  "language_info": {
   "codemirror_mode": {
    "name": "ipython",
    "version": 3
   },
   "file_extension": ".py",
   "mimetype": "text/x-python",
   "name": "python",
   "nbconvert_exporter": "python",
   "pygments_lexer": "ipython3",
   "version": "3.8.5-final"
  },
  "orig_nbformat": 2,
  "kernelspec": {
   "name": "python_defaultSpec_1599834741747",
   "display_name": "Python 3.8.5 64-bit"
  }
 },
 "nbformat": 4,
 "nbformat_minor": 2,
 "cells": [
  {
   "cell_type": "markdown",
   "metadata": {},
   "source": [
    "# SMART TWEET"
   ]
  },
  {
   "cell_type": "code",
   "execution_count": null,
   "metadata": {
    "tags": []
   },
   "outputs": [],
   "source": [
    "%load_ext autoreload\n",
    "%autoreload 2"
   ]
  },
  {
   "cell_type": "code",
   "execution_count": 15,
   "metadata": {
    "tags": []
   },
   "outputs": [],
   "source": [
    "import searchtweet\n",
    "import database as db\n",
    "import azureanalysis as az"
   ]
  },
  {
   "cell_type": "markdown",
   "metadata": {},
   "source": [
    "## Récuperation des tweets"
   ]
  },
  {
   "cell_type": "code",
   "execution_count": 4,
   "metadata": {
    "tags": []
   },
   "outputs": [
    {
     "output_type": "stream",
     "name": "stdout",
     "text": "Connexion to Twitter API...\nOK - Connected.\nSearching tweets with hashtag \"#boudin\"...\nOK - 81 tweets found with the hashtag \"#boudin\".\n"
    }
   ],
   "source": [
    "# Choix du hashtag (à saisir sans le #)\n",
    "hashtag = 'boudin'\n",
    "\n",
    "df_tweets = searchtweet.tweet_search(hashtag)"
   ]
  },
  {
   "cell_type": "markdown",
   "metadata": {},
   "source": [
    "## Algorithme Azure"
   ]
  },
  {
   "cell_type": "code",
   "execution_count": 5,
   "metadata": {
    "tags": []
   },
   "outputs": [
    {
     "output_type": "stream",
     "name": "stdout",
     "text": "Azure authentification successful.\n0 tweets analysed.\nAnalysis ending.\n"
    }
   ],
   "source": [
    "# Authentification Azure\n",
    "client = az.authenticate_client()\n",
    "\n",
    "# Analyse sentiments\n",
    "df_final = az.sentiment_analysis(client, df_tweets)\n"
   ]
  },
  {
   "cell_type": "code",
   "execution_count": 6,
   "metadata": {
    "tags": []
   },
   "outputs": [
    {
     "output_type": "execute_result",
     "data": {
      "text/plain": "<bound method NDFrame.head of                                    created_at  \\\nid                                              \n1304405976649474048  2020-09-11T13:06:34.000Z   \n1304347109127225347  2020-09-11T09:12:39.000Z   \n1304222032377282562  2020-09-11T00:55:38.000Z   \n1304212306180612104  2020-09-11T00:16:59.000Z   \n1304211814595657729  2020-09-11T00:15:02.000Z   \n...                                       ...   \n1302051357881520128  2020-09-05T01:10:09.000Z   \n1302050534631845889  2020-09-05T01:06:53.000Z   \n1302027530682208262  2020-09-04T23:35:28.000Z   \n1302008746525298690  2020-09-04T22:20:49.000Z   \n1301921453726728193  2020-09-04T16:33:57.000Z   \n\n                                                                  text lang  \\\nid                                                                            \n1304405976649474048  A Beach Scene #boudin #impressionism https://t...   en   \n1304347109127225347  Descubre el #MUVA, nuestro Museo Virtual de Ar...   es   \n1304222032377282562  Untitled #impressionism #boudin https://t.co/E...   en   \n1304212306180612104  Strand in Trouville, 1868 https://t.co/8KJQBkI...   en   \n1304211814595657729  Don’t miss out on Chicken Boudin Sausage tomor...   en   \n...                                                                ...  ...   \n1302051357881520128  The Seine at Caudebec-en-Caux, 1889 https://t....   fr   \n1302050534631845889  Bay of Plougastel https://t.co/2DCwcI8rqY #eug...   en   \n1302027530682208262  Pheasant, Duck and Fruit, 1879 #realism #boudi...   en   \n1302008746525298690  Saint-Valery-sur-Somme Moonrise over the Canal...   en   \n1301921453726728193  The Still River at Deauville, 1895 https://t.c...   en   \n\n                      result  confidence  \nid                                        \n1304405976649474048  neutral        0.93  \n1304347109127225347  neutral        0.74  \n1304222032377282562  neutral        0.94  \n1304212306180612104  neutral        0.98  \n1304211814595657729    mixed        0.58  \n...                      ...         ...  \n1302051357881520128  neutral        0.99  \n1302050534631845889  neutral        0.96  \n1302027530682208262  neutral        0.99  \n1302008746525298690  neutral        0.96  \n1301921453726728193  neutral        0.95  \n\n[81 rows x 5 columns]>"
     },
     "metadata": {},
     "execution_count": 6
    }
   ],
   "source": [
    "df_final.head"
   ]
  },
  {
   "cell_type": "markdown",
   "metadata": {},
   "source": [
    "## Insertion base de données"
   ]
  },
  {
   "cell_type": "code",
   "execution_count": null,
   "metadata": {
    "tags": []
   },
   "outputs": [],
   "source": [
    "if input (f'Do you want to save the final dataframe for #{hashtag_produit}? (y/n)') == \"y\" :\n",
    "    print ('OK - Backup in progress...')\n",
    "else :\n",
    "    print ('No backup.')"
   ]
  },
  {
   "cell_type": "code",
   "execution_count": 17,
   "metadata": {
    "tags": []
   },
   "outputs": [
    {
     "output_type": "stream",
     "name": "stdout",
     "text": "Database connexion...\nOK - Connected to Database.\n"
    }
   ],
   "source": [
    "conn, cur = db.connexion()"
   ]
  },
  {
   "cell_type": "code",
   "execution_count": 19,
   "metadata": {
    "tags": []
   },
   "outputs": [
    {
     "output_type": "stream",
     "name": "stdout",
     "text": "[(1, 'positive'), (2, 'neutral'), (3, 'negative'), (4, 'mixed')]\n[(7, 'boudin')]\n"
    }
   ],
   "source": [
    "\n",
    "cur.execute(\"SELECT * FROM feeling;\")\n",
    "print(cur.fetchall())\n",
    "\n",
    "\n",
    "cur.execute(\"SELECT * FROM hashtag;\")\n",
    "print(cur.fetchall())\n",
    "\n"
   ]
  }
 ]
}
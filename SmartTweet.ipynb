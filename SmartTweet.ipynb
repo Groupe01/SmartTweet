{
 "metadata": {
  "language_info": {
   "codemirror_mode": {
    "name": "ipython",
    "version": 3
   },
   "file_extension": ".py",
   "mimetype": "text/x-python",
   "name": "python",
   "nbconvert_exporter": "python",
   "pygments_lexer": "ipython3",
   "version": "3.8.5-final"
  },
  "orig_nbformat": 2,
  "kernelspec": {
   "name": "python_defaultSpec_1600071744340",
   "display_name": "Python 3.8.5 64-bit"
  }
 },
 "nbformat": 4,
 "nbformat_minor": 2,
 "cells": [
  {
   "cell_type": "markdown",
   "metadata": {},
   "source": [
    "# SMART TWEET"
   ]
  },
  {
   "cell_type": "code",
   "execution_count": 1,
   "metadata": {
    "tags": []
   },
   "outputs": [],
   "source": [
    "%load_ext autoreload\n",
    "%autoreload 2"
   ]
  },
  {
   "cell_type": "code",
   "execution_count": 39,
   "metadata": {
    "tags": []
   },
   "outputs": [],
   "source": [
    "import searchtweet\n",
    "import database as db\n",
    "import azureanalysis as az"
   ]
  },
  {
   "cell_type": "markdown",
   "metadata": {},
   "source": [
    "## Récuperation des tweets"
   ]
  },
  {
   "cell_type": "code",
   "execution_count": 41,
   "metadata": {
    "tags": []
   },
   "outputs": [
    {
     "output_type": "stream",
     "name": "stdout",
     "text": "Connexion to Twitter API...\nOK - Connected.\nSearching tweets with hashtag \"#iphone11\"...\nOK - 2098 tweets found with the hashtag \"#iphone11\".\n"
    }
   ],
   "source": [
    "# Choix du hashtag (à saisir sans le #)\n",
    "hashtag = 'iphone11'\n",
    "\n",
    "df_tweets = searchtweet.tweet_search(hashtag)"
   ]
  },
  {
   "cell_type": "markdown",
   "metadata": {},
   "source": [
    "## Algorithme Azure"
   ]
  },
  {
   "cell_type": "code",
   "execution_count": 42,
   "metadata": {
    "tags": []
   },
   "outputs": [
    {
     "output_type": "stream",
     "name": "stdout",
     "text": "Azure authentification successful.\n0 tweets analysed.\n500 tweets analysed.\n1000 tweets analysed.\n1500 tweets analysed.\n2000 tweets analysed.\nAnalysis ending.\n"
    }
   ],
   "source": [
    "# Authentification Azure\n",
    "client = az.authenticate_client()\n",
    "\n",
    "# Analyse sentiments\n",
    "df_final = az.sentiment_analysis(client, df_tweets)\n"
   ]
  },
  {
   "cell_type": "code",
   "execution_count": 44,
   "metadata": {
    "tags": []
   },
   "outputs": [
    {
     "output_type": "execute_result",
     "data": {
      "text/plain": "(2098, 5)"
     },
     "metadata": {},
     "execution_count": 44
    }
   ],
   "source": [
    "df_final.reindex(columns=['created_at','lang','text','result','confidence'])\n",
    "df_final.shape"
   ]
  },
  {
   "cell_type": "markdown",
   "metadata": {},
   "source": [
    "## Insertion base de données"
   ]
  },
  {
   "cell_type": "code",
   "execution_count": 45,
   "metadata": {
    "tags": []
   },
   "outputs": [
    {
     "output_type": "stream",
     "name": "stdout",
     "text": "Backup in progress...\n\nDatabase connexion...\nOK - Connected to Database.\n\nFormating datas...\nOK.\n\nInsert hashtag in database...\nOK.\n\nInsert tweets in database...\nOK. \n\nOK - Database is updated - 2098 tweets added.\n"
    }
   ],
   "source": [
    "if input (f'Do you want to save the final dataframe for #{hashtag}? (y/n)') == \"y\" :\n",
    "    print ('Backup in progress...\\n')\n",
    "    \n",
    "    nb = db.insert(df_final, hashtag)\n",
    "\n",
    "    print(f'OK - Database is updated - {nb} tweets added.')\n",
    "\n",
    "else :\n",
    "    print ('No backup.')"
   ]
  }
 ]
}
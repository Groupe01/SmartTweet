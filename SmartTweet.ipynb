{
 "metadata": {
  "language_info": {
   "codemirror_mode": {
    "name": "ipython",
    "version": 3
   },
   "file_extension": ".py",
   "mimetype": "text/x-python",
   "name": "python",
   "nbconvert_exporter": "python",
   "pygments_lexer": "ipython3",
   "version": "3.8.5-final"
  },
  "orig_nbformat": 2,
  "kernelspec": {
   "name": "python3",
   "display_name": "Python 3"
  }
 },
 "nbformat": 4,
 "nbformat_minor": 2,
 "cells": [
  {
   "cell_type": "markdown",
   "metadata": {},
   "source": [
    "# SMART TWEET"
   ]
  },
  {
   "cell_type": "code",
   "execution_count": 11,
   "metadata": {
    "tags": []
   },
   "outputs": [
    {
     "output_type": "stream",
     "name": "stdout",
     "text": "The autoreload extension is already loaded. To reload it, use:\n  %reload_ext autoreload\n"
    }
   ],
   "source": [
    "%load_ext autoreload\n",
    "%autoreload 2"
   ]
  },
  {
   "cell_type": "code",
   "execution_count": 21,
   "metadata": {
    "tags": []
   },
   "outputs": [],
   "source": [
    "import searchtweet\n",
    "import database as db\n",
    "import azureanalysis as az"
   ]
  },
  {
   "cell_type": "markdown",
   "metadata": {},
   "source": [
    "## Récuperation des tweets"
   ]
  },
  {
   "cell_type": "code",
   "execution_count": 13,
   "metadata": {
    "tags": []
   },
   "outputs": [
    {
     "output_type": "stream",
     "name": "stdout",
     "text": "Lancement des traitements pour le hashtag #warcraft...\n\nConnexion to Twitter API...\nOK - Connected.\nSearching tweets with hashtag \"#warcraft\"...\nOK - 2000 tweets found with the hashtag \"#warcraft\".\n"
    }
   ],
   "source": [
    "# Choix du hashtag (à saisir sans le #)\n",
    "hashtag = input('Saisir le hashtag souhaité (sans le #) :')\n",
    "print(f'Lancement des traitements pour le hashtag #{hashtag}...\\n')\n",
    "\n",
    "df_tweets = searchtweet.tweet_search(hashtag)"
   ]
  },
  {
   "cell_type": "markdown",
   "metadata": {},
   "source": [
    "## Algorithme Azure"
   ]
  },
  {
   "cell_type": "code",
   "execution_count": 14,
   "metadata": {
    "tags": []
   },
   "outputs": [
    {
     "output_type": "stream",
     "name": "stdout",
     "text": "Azure authentification successful.\n0 tweets analysed.\n500 tweets analysed.\n1000 tweets analysed.\n1500 tweets analysed.\nAnalysis ending.\n"
    }
   ],
   "source": [
    "# Authentification Azure\n",
    "client = az.authenticate_client()\n",
    "\n",
    "# Analyse sentiments\n",
    "df_final = az.sentiment_analysis(client, df_tweets)\n"
   ]
  },
  {
   "cell_type": "code",
   "execution_count": 43,
   "metadata": {
    "tags": []
   },
   "outputs": [
    {
     "output_type": "execute_result",
     "data": {
      "text/plain": "(2000, 5)"
     },
     "metadata": {},
     "execution_count": 43
    }
   ],
   "source": [
    "df_final = df_final.reindex(columns=['created_at','lang','text','result','confidence'])\n",
    "df_final.shape\n"
   ]
  },
  {
   "cell_type": "markdown",
   "metadata": {},
   "source": [
    "## Insertion base de données"
   ]
  },
  {
   "cell_type": "code",
   "execution_count": 44,
   "metadata": {
    "tags": []
   },
   "outputs": [
    {
     "output_type": "stream",
     "name": "stdout",
     "text": "Backup in progress...\n\nDatabase connexion...\nOK - Connected to Database.\n\nFormating datas...\nOK.\n\nInsert hashtag in database...\nOK.\n\nInsert tweets in database...\nOK. \n\nOK - Database is updated - 2000 tweets added.\n"
    }
   ],
   "source": [
    "if input (f'Do you want to save the final dataframe for #{hashtag}? (y/n)') == \"y\" :\n",
    "    print ('Backup in progress...\\n')\n",
    "    \n",
    "    nb = db.insert(df_final, hashtag)\n",
    "\n",
    "    print(f'OK - Database is updated - {nb} tweets added.')\n",
    "\n",
    "else :\n",
    "    print ('No backup.')"
   ]
  },
  {
   "source": [
    "## Stats"
   ],
   "cell_type": "markdown",
   "metadata": {}
  },
  {
   "cell_type": "code",
   "execution_count": 48,
   "metadata": {
    "tags": []
   },
   "outputs": [
    {
     "output_type": "stream",
     "name": "stdout",
     "text": "Database connexion...\nOK - Connected to Database.\nDatabase connexion...\nOK - Connected to Database.\n"
    }
   ],
   "source": [
    "df_day = db.feeling_by_day(hashtag)\n",
    "df_feeling = db.feeling(hashtag)\n"
   ]
  },
  {
   "cell_type": "code",
   "execution_count": 52,
   "metadata": {},
   "outputs": [
    {
     "output_type": "execute_result",
     "data": {
      "text/plain": "     hashtag        date   feeling  nb_tweets\n0   warcraft  2020-09-13     mixed          6\n1   warcraft  2020-09-13  negative         34\n2   warcraft  2020-09-13   neutral         99\n3   warcraft  2020-09-13  positive         81\n4   warcraft  2020-09-14     mixed        206\n5   warcraft  2020-09-14  negative        227\n6   warcraft  2020-09-14   neutral        517\n7   warcraft  2020-09-14  positive        406\n8   warcraft  2020-09-15     mixed         50\n9   warcraft  2020-09-15  negative         55\n10  warcraft  2020-09-15   neutral        186\n11  warcraft  2020-09-15  positive        133",
      "text/html": "<div>\n<style scoped>\n    .dataframe tbody tr th:only-of-type {\n        vertical-align: middle;\n    }\n\n    .dataframe tbody tr th {\n        vertical-align: top;\n    }\n\n    .dataframe thead th {\n        text-align: right;\n    }\n</style>\n<table border=\"1\" class=\"dataframe\">\n  <thead>\n    <tr style=\"text-align: right;\">\n      <th></th>\n      <th>hashtag</th>\n      <th>date</th>\n      <th>feeling</th>\n      <th>nb_tweets</th>\n    </tr>\n  </thead>\n  <tbody>\n    <tr>\n      <th>0</th>\n      <td>warcraft</td>\n      <td>2020-09-13</td>\n      <td>mixed</td>\n      <td>6</td>\n    </tr>\n    <tr>\n      <th>1</th>\n      <td>warcraft</td>\n      <td>2020-09-13</td>\n      <td>negative</td>\n      <td>34</td>\n    </tr>\n    <tr>\n      <th>2</th>\n      <td>warcraft</td>\n      <td>2020-09-13</td>\n      <td>neutral</td>\n      <td>99</td>\n    </tr>\n    <tr>\n      <th>3</th>\n      <td>warcraft</td>\n      <td>2020-09-13</td>\n      <td>positive</td>\n      <td>81</td>\n    </tr>\n    <tr>\n      <th>4</th>\n      <td>warcraft</td>\n      <td>2020-09-14</td>\n      <td>mixed</td>\n      <td>206</td>\n    </tr>\n    <tr>\n      <th>5</th>\n      <td>warcraft</td>\n      <td>2020-09-14</td>\n      <td>negative</td>\n      <td>227</td>\n    </tr>\n    <tr>\n      <th>6</th>\n      <td>warcraft</td>\n      <td>2020-09-14</td>\n      <td>neutral</td>\n      <td>517</td>\n    </tr>\n    <tr>\n      <th>7</th>\n      <td>warcraft</td>\n      <td>2020-09-14</td>\n      <td>positive</td>\n      <td>406</td>\n    </tr>\n    <tr>\n      <th>8</th>\n      <td>warcraft</td>\n      <td>2020-09-15</td>\n      <td>mixed</td>\n      <td>50</td>\n    </tr>\n    <tr>\n      <th>9</th>\n      <td>warcraft</td>\n      <td>2020-09-15</td>\n      <td>negative</td>\n      <td>55</td>\n    </tr>\n    <tr>\n      <th>10</th>\n      <td>warcraft</td>\n      <td>2020-09-15</td>\n      <td>neutral</td>\n      <td>186</td>\n    </tr>\n    <tr>\n      <th>11</th>\n      <td>warcraft</td>\n      <td>2020-09-15</td>\n      <td>positive</td>\n      <td>133</td>\n    </tr>\n  </tbody>\n</table>\n</div>"
     },
     "metadata": {},
     "execution_count": 52
    }
   ],
   "source": [
    "df_day.head(20)\n"
   ]
  },
  {
   "cell_type": "code",
   "execution_count": 50,
   "metadata": {},
   "outputs": [
    {
     "output_type": "execute_result",
     "data": {
      "text/plain": "    hashtag   feeling  nb_tweets\n0  warcraft     mixed        262\n1  warcraft  negative        316\n2  warcraft   neutral        802\n3  warcraft  positive        620",
      "text/html": "<div>\n<style scoped>\n    .dataframe tbody tr th:only-of-type {\n        vertical-align: middle;\n    }\n\n    .dataframe tbody tr th {\n        vertical-align: top;\n    }\n\n    .dataframe thead th {\n        text-align: right;\n    }\n</style>\n<table border=\"1\" class=\"dataframe\">\n  <thead>\n    <tr style=\"text-align: right;\">\n      <th></th>\n      <th>hashtag</th>\n      <th>feeling</th>\n      <th>nb_tweets</th>\n    </tr>\n  </thead>\n  <tbody>\n    <tr>\n      <th>0</th>\n      <td>warcraft</td>\n      <td>mixed</td>\n      <td>262</td>\n    </tr>\n    <tr>\n      <th>1</th>\n      <td>warcraft</td>\n      <td>negative</td>\n      <td>316</td>\n    </tr>\n    <tr>\n      <th>2</th>\n      <td>warcraft</td>\n      <td>neutral</td>\n      <td>802</td>\n    </tr>\n    <tr>\n      <th>3</th>\n      <td>warcraft</td>\n      <td>positive</td>\n      <td>620</td>\n    </tr>\n  </tbody>\n</table>\n</div>"
     },
     "metadata": {},
     "execution_count": 50
    }
   ],
   "source": [
    "df_feeling.head()"
   ]
  }
 ]
}
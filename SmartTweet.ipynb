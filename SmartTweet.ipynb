{
 "metadata": {
  "language_info": {
   "codemirror_mode": {
    "name": "ipython",
    "version": 3
   },
   "file_extension": ".py",
   "mimetype": "text/x-python",
   "name": "python",
   "nbconvert_exporter": "python",
   "pygments_lexer": "ipython3",
   "version": "3.8.5-final"
  },
  "orig_nbformat": 2,
  "kernelspec": {
   "name": "python_defaultSpec_1600071744340",
   "display_name": "Python 3.8.5 64-bit"
  }
 },
 "nbformat": 4,
 "nbformat_minor": 2,
 "cells": [
  {
   "cell_type": "markdown",
   "metadata": {},
   "source": [
    "# SMART TWEET"
   ]
  },
  {
   "cell_type": "code",
   "execution_count": 1,
   "metadata": {
    "tags": []
   },
   "outputs": [],
   "source": [
    "%load_ext autoreload\n",
    "%autoreload 2"
   ]
  },
  {
   "cell_type": "code",
   "execution_count": 109,
   "metadata": {
    "tags": []
   },
   "outputs": [],
   "source": [
    "import searchtweet\n",
    "import database as db\n",
    "import azureanalysis as az"
   ]
  },
  {
   "cell_type": "markdown",
   "metadata": {},
   "source": [
    "## Récuperation des tweets"
   ]
  },
  {
   "cell_type": "code",
   "execution_count": 41,
   "metadata": {
    "tags": []
   },
   "outputs": [
    {
     "output_type": "stream",
     "name": "stdout",
     "text": "Connexion to Twitter API...\nOK - Connected.\nSearching tweets with hashtag \"#iphone11\"...\nOK - 2098 tweets found with the hashtag \"#iphone11\".\n"
    }
   ],
   "source": [
    "# Choix du hashtag (à saisir sans le #)\n",
    "hashtag = 'iphone11'\n",
    "\n",
    "df_tweets = searchtweet.tweet_search(hashtag)"
   ]
  },
  {
   "cell_type": "markdown",
   "metadata": {},
   "source": [
    "## Algorithme Azure"
   ]
  },
  {
   "cell_type": "code",
   "execution_count": 42,
   "metadata": {
    "tags": []
   },
   "outputs": [
    {
     "output_type": "stream",
     "name": "stdout",
     "text": "Azure authentification successful.\n0 tweets analysed.\n500 tweets analysed.\n1000 tweets analysed.\n1500 tweets analysed.\n2000 tweets analysed.\nAnalysis ending.\n"
    }
   ],
   "source": [
    "# Authentification Azure\n",
    "client = az.authenticate_client()\n",
    "\n",
    "# Analyse sentiments\n",
    "df_final = az.sentiment_analysis(client, df_tweets)\n"
   ]
  },
  {
   "cell_type": "code",
   "execution_count": 44,
   "metadata": {
    "tags": []
   },
   "outputs": [
    {
     "output_type": "execute_result",
     "data": {
      "text/plain": "(2098, 5)"
     },
     "metadata": {},
     "execution_count": 44
    }
   ],
   "source": [
    "df_final.reindex(columns=['created_at','lang','text','result','confidence'])\n",
    "df_final.shape"
   ]
  },
  {
   "cell_type": "markdown",
   "metadata": {},
   "source": [
    "## Insertion base de données"
   ]
  },
  {
   "cell_type": "code",
   "execution_count": 45,
   "metadata": {
    "tags": []
   },
   "outputs": [
    {
     "output_type": "stream",
     "name": "stdout",
     "text": "Backup in progress...\n\nDatabase connexion...\nOK - Connected to Database.\n\nFormating datas...\nOK.\n\nInsert hashtag in database...\nOK.\n\nInsert tweets in database...\nOK. \n\nOK - Database is updated - 2098 tweets added.\n"
    }
   ],
   "source": [
    "if input (f'Do you want to save the final dataframe for #{hashtag}? (y/n)') == \"y\" :\n",
    "    print ('Backup in progress...\\n')\n",
    "    \n",
    "    nb = db.insert(df_final, hashtag)\n",
    "\n",
    "    print(f'OK - Database is updated - {nb} tweets added.')\n",
    "\n",
    "else :\n",
    "    print ('No backup.')"
   ]
  },
  {
   "source": [
    "## Stats"
   ],
   "cell_type": "markdown",
   "metadata": {}
  },
  {
   "cell_type": "code",
   "execution_count": 119,
   "metadata": {},
   "outputs": [],
   "source": [
    "conn.close()"
   ]
  },
  {
   "cell_type": "code",
   "execution_count": 120,
   "metadata": {
    "tags": []
   },
   "outputs": [
    {
     "output_type": "stream",
     "name": "stdout",
     "text": "Database connexion...\nOK - Connected to Database.\nDatabase connexion...\nOK - Connected to Database.\n"
    }
   ],
   "source": [
    "df_day = db.feeling_by_day('ps5')\n",
    "df_feeling = db.feeling('ps5')\n"
   ]
  },
  {
   "cell_type": "code",
   "execution_count": 122,
   "metadata": {},
   "outputs": [
    {
     "output_type": "execute_result",
     "data": {
      "text/plain": "  hashtag        date   feeling  nb_tweets\n0     ps5  2020-09-13     mixed         66\n1     ps5  2020-09-13  negative        242\n2     ps5  2020-09-13   neutral        690\n3     ps5  2020-09-13  positive        262\n4     ps5  2020-09-14     mixed         43",
      "text/html": "<div>\n<style scoped>\n    .dataframe tbody tr th:only-of-type {\n        vertical-align: middle;\n    }\n\n    .dataframe tbody tr th {\n        vertical-align: top;\n    }\n\n    .dataframe thead th {\n        text-align: right;\n    }\n</style>\n<table border=\"1\" class=\"dataframe\">\n  <thead>\n    <tr style=\"text-align: right;\">\n      <th></th>\n      <th>hashtag</th>\n      <th>date</th>\n      <th>feeling</th>\n      <th>nb_tweets</th>\n    </tr>\n  </thead>\n  <tbody>\n    <tr>\n      <th>0</th>\n      <td>ps5</td>\n      <td>2020-09-13</td>\n      <td>mixed</td>\n      <td>66</td>\n    </tr>\n    <tr>\n      <th>1</th>\n      <td>ps5</td>\n      <td>2020-09-13</td>\n      <td>negative</td>\n      <td>242</td>\n    </tr>\n    <tr>\n      <th>2</th>\n      <td>ps5</td>\n      <td>2020-09-13</td>\n      <td>neutral</td>\n      <td>690</td>\n    </tr>\n    <tr>\n      <th>3</th>\n      <td>ps5</td>\n      <td>2020-09-13</td>\n      <td>positive</td>\n      <td>262</td>\n    </tr>\n    <tr>\n      <th>4</th>\n      <td>ps5</td>\n      <td>2020-09-14</td>\n      <td>mixed</td>\n      <td>43</td>\n    </tr>\n  </tbody>\n</table>\n</div>"
     },
     "metadata": {},
     "execution_count": 122
    }
   ],
   "source": [
    "df_day.head()\n"
   ]
  },
  {
   "cell_type": "code",
   "execution_count": 123,
   "metadata": {},
   "outputs": [
    {
     "output_type": "execute_result",
     "data": {
      "text/plain": "  hashtag   feeling  nb_tweets\n0     ps5     mixed        109\n1     ps5  negative        376\n2     ps5   neutral       1189\n3     ps5  positive        425",
      "text/html": "<div>\n<style scoped>\n    .dataframe tbody tr th:only-of-type {\n        vertical-align: middle;\n    }\n\n    .dataframe tbody tr th {\n        vertical-align: top;\n    }\n\n    .dataframe thead th {\n        text-align: right;\n    }\n</style>\n<table border=\"1\" class=\"dataframe\">\n  <thead>\n    <tr style=\"text-align: right;\">\n      <th></th>\n      <th>hashtag</th>\n      <th>feeling</th>\n      <th>nb_tweets</th>\n    </tr>\n  </thead>\n  <tbody>\n    <tr>\n      <th>0</th>\n      <td>ps5</td>\n      <td>mixed</td>\n      <td>109</td>\n    </tr>\n    <tr>\n      <th>1</th>\n      <td>ps5</td>\n      <td>negative</td>\n      <td>376</td>\n    </tr>\n    <tr>\n      <th>2</th>\n      <td>ps5</td>\n      <td>neutral</td>\n      <td>1189</td>\n    </tr>\n    <tr>\n      <th>3</th>\n      <td>ps5</td>\n      <td>positive</td>\n      <td>425</td>\n    </tr>\n  </tbody>\n</table>\n</div>"
     },
     "metadata": {},
     "execution_count": 123
    }
   ],
   "source": [
    "df_feeling.head()"
   ]
  }
 ]
}
{
 "metadata": {
  "language_info": {
   "codemirror_mode": {
    "name": "ipython",
    "version": 3
   },
   "file_extension": ".py",
   "mimetype": "text/x-python",
   "name": "python",
   "nbconvert_exporter": "python",
   "pygments_lexer": "ipython3",
   "version": "3.7.9-final"
  },
  "orig_nbformat": 2,
  "kernelspec": {
   "name": "python_defaultSpec_1599415245546",
   "display_name": "Python 3.7.9 64-bit ('SmartTweets': conda)"
  }
 },
 "nbformat": 4,
 "nbformat_minor": 2,
 "cells": [
  {
   "cell_type": "code",
   "execution_count": 211,
   "metadata": {},
   "outputs": [],
   "source": [
    "# Load Library  for the code \n",
    "import pandas as pd\n",
    "from azure.ai.textanalytics import TextAnalyticsClient\n",
    "from azure.core.credentials import AzureKeyCredential\n"
   ]
  },
  {
   "cell_type": "markdown",
   "metadata": {},
   "source": [
    "# Authenticate Client :\n"
   ]
  },
  {
   "cell_type": "code",
   "execution_count": 212,
   "metadata": {},
   "outputs": [],
   "source": [
    "# Key and endpoint Azure Text Analytics API service\n",
    "key = '7b3d4c450fd84d3485f41b09087d5038'\n",
    "endpoint ='https://cs-groupe-un.cognitiveservices.azure.com/'\n",
    "\n"
   ]
  },
  {
   "cell_type": "code",
   "execution_count": 213,
   "metadata": {},
   "outputs": [],
   "source": [
    "def authenticate_client ():\n",
    "    \"\"\"\n",
    "    Create a function to instantiate the TextAnalyticsClient object with your key AND endpoint. Then create a new client.\n",
    "    Créer une fonction pour instancier un objet TextanalyticsClient avec la clé API Azure.\n",
    "    \"\"\"\n",
    "    cl_credential = AzureKeyCredential(key)\n",
    "    text_analytics_client = TextAnalyticsClient(endpoint, cl_credential)\n",
    "    return text_analytics_client\n",
    "client = authenticate_client()\n"
   ]
  },
  {
   "cell_type": "markdown",
   "metadata": {},
   "source": [
    "# Sentiment Analysis:"
   ]
  },
  {
   "cell_type": "code",
   "execution_count": 214,
   "metadata": {
    "tags": []
   },
   "outputs": [],
   "source": [
    "\n",
    "comments =[\"The quality of product is best. I wish get it in the next time. \"]\n",
    "def comments_sentiment_analysis(client, list_comments):\n",
    "    \"\"\"\n",
    "    \"\"\"\n",
    "    \n",
    "    response = client.analyze_sentiment(list_comments)[0]\n",
    "    print(\"Comments Sentiments:{}\".format(response.sentiment) )\n",
    "    print(\"Scores: Positive = {}, Neutral = {}, Negative = {}\\n\".format(\n",
    "        (response.confidence_scores.positive), \n",
    "        (response.confidence_scores.neutral),\n",
    "        ( response.confidence_scores.negative)))\n",
    "\n",
    "    for indx, comment in enumerate(response.sentences):\n",
    "        print(\"Sentence {}:{}\\n Sentiment :{}\\n Confidence Score:\\n\\t Positive = {}\\n\\t Neutral ={}\\n\\t Negative ={}\\n\".format(\n",
    "            indx+1, comment.text, comment.sentiment,comment.confidence_scores.positive, comment.confidence_scores.neutral,\n",
    "            comment.confidence_scores.negative))\n",
    "        \n",
    "        comments_sentiment_analysis(client, comments)\n"
   ]
  },
  {
   "cell_type": "code",
   "execution_count": 215,
   "metadata": {
    "tags": []
   },
   "outputs": [
    {
     "output_type": "stream",
     "name": "stdout",
     "text": "(1981, 2)\n"
    }
   ],
   "source": [
    "\n",
    "\n",
    "\n",
    "# Remove duplicated record but keep the first occurence of the record\n",
    "#commentData.drop_duplicates(keep='first',inplace=True)\n",
    "commentData.reset_index(drop=True, inplace=True)\n",
    "commentData.head()\n",
    "print(commentData.shape)\n"
   ]
  },
  {
   "cell_type": "code",
   "execution_count": 215,
   "metadata": {},
   "outputs": [],
   "source": [
    "    "
   ]
  }
 ]
}
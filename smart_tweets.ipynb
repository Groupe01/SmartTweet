{
 "metadata": {
  "language_info": {
   "codemirror_mode": {
    "name": "ipython",
    "version": 3
   },
   "file_extension": ".py",
   "mimetype": "text/x-python",
   "name": "python",
   "nbconvert_exporter": "python",
   "pygments_lexer": "ipython3",
   "version": "3.7.9-final"
  },
  "orig_nbformat": 2,
  "kernelspec": {
   "name": "python_defaultSpec_1599724849960",
   "display_name": "Python 3.7.9 64-bit ('SmartTweets': conda)"
  }
 },
 "nbformat": 4,
 "nbformat_minor": 2,
 "cells": [
  {
   "cell_type": "code",
   "execution_count": 1,
   "metadata": {
    "tags": []
   },
   "outputs": [],
   "source": [
    "# Load Library  for the code \n",
    "import pandas as pd\n",
    "import numpy as np\n",
    "import matplotlib.pyplot as plt\n",
    "from matplotlib.pyplot import figure\n",
    "from azure.ai.textanalytics import TextAnalyticsClient\n",
    "from azure.core.credentials import AzureKeyCredential\n"
   ]
  },
  {
   "cell_type": "markdown",
   "metadata": {},
   "source": [
    "# Authenticate Client :\n"
   ]
  },
  {
   "cell_type": "code",
   "execution_count": 2,
   "metadata": {},
   "outputs": [],
   "source": [
    "# Key and endpoint Azure Text Analytics API service\n",
    "key = '7b3d4c450fd84d3485f41b09087d5038'\n",
    "endpoint ='https://cs-groupe-un.cognitiveservices.azure.com/'\n",
    "\n"
   ]
  },
  {
   "cell_type": "code",
   "execution_count": 3,
   "metadata": {},
   "outputs": [],
   "source": [
    "def authenticate_client ():\n",
    "    \"\"\"\n",
    "    Create a function to instantiate the TextAnalyticsClient object with your key AND endpoint. Then create a new client.\n",
    "    Créer une fonction pour instancier un objet TextanalyticsClient avec la clé API Azure.\n",
    "    \"\"\"\n",
    "    cl_credential = AzureKeyCredential(key)\n",
    "    text_analytics_client = TextAnalyticsClient(endpoint, cl_credential)\n",
    "    return text_analytics_client\n",
    "client = authenticate_client()\n"
   ]
  },
  {
   "cell_type": "markdown",
   "metadata": {},
   "source": [
    "# Sentiment Analysis:"
   ]
  },
  {
   "cell_type": "code",
   "execution_count": 21,
   "metadata": {
    "tags": []
   },
   "outputs": [],
   "source": [
    "\n",
    "def comments_sentiment_analysis(client, file):\n",
    "    \"\"\"\n",
    "    \"\"\"\n",
    "    tweets_df = pd.read_csv(file,  names=[\"id_tweet\", \"date_tweet\", \"tweet\", \"sentiment\",\"indice_confiance\"])\n",
    "\n",
    "    # senti_results = {'Positive':0,'Neutral':0,'Negative':0,'Unknown':0}\n",
    "    for i in range(len(tweets_df)):\n",
    "        documents = tweets_df['tweet'][i]\n",
    "        comment_list =[documents]\n",
    "        response = client.analyze_sentiment(documents = comment_list)[0]\n",
    "        tweets_df['sentiment'][i] = response.sentiment\n",
    "        indice_list=[response.confidence_scores.positive,response.confidence_scores.neutral,response.confidence_scores.negative]\n",
    "        tweets_df['indice_confiance'][i]= max(indice_list)\n",
    "\n",
    "        \n",
    "        # if response == \"positive\":\n",
    "        #     senti_results['Positive'] += 1 \n",
    "        # elif response == \"neutral\":\n",
    "        #     senti_results['Neutral'] += 1\n",
    "        # elif response == \"negative\":\n",
    "        #     senti_results['Negative'] += 1\n",
    "        # else: \n",
    "        #     senti_results['Unknown'] +=1\n",
    "    return tweets_df\n",
    "      \n",
    "df_tweet_final= comments_sentiment_analysis(client, \"tweets.csv\")\n",
    "df_tweet_final.to_csv('tweets_analysis.csv')\n"
   ]
  },
  {
   "cell_type": "markdown",
   "metadata": {},
   "source": [
    "# Visualizations :"
   ]
  },
  {
   "cell_type": "code",
   "execution_count": 5,
   "metadata": {
    "tags": []
   },
   "outputs": [
    {
     "output_type": "error",
     "ename": "NameError",
     "evalue": "name 'senti_results' is not defined",
     "traceback": [
      "\u001b[1;31m---------------------------------------------------------------------------\u001b[0m",
      "\u001b[1;31mNameError\u001b[0m                                 Traceback (most recent call last)",
      "\u001b[1;32m<ipython-input-5-997a499c9d7b>\u001b[0m in \u001b[0;36m<module>\u001b[1;34m\u001b[0m\n\u001b[0;32m      1\u001b[0m \u001b[1;31m#\u001b[0m\u001b[1;33m\u001b[0m\u001b[1;33m\u001b[0m\u001b[1;33m\u001b[0m\u001b[0m\n\u001b[1;32m----> 2\u001b[1;33m \u001b[0mkeys\u001b[0m \u001b[1;33m=\u001b[0m \u001b[0msenti_results\u001b[0m\u001b[1;33m.\u001b[0m\u001b[0mkeys\u001b[0m\u001b[1;33m(\u001b[0m\u001b[1;33m)\u001b[0m\u001b[1;33m\u001b[0m\u001b[1;33m\u001b[0m\u001b[0m\n\u001b[0m\u001b[0;32m      3\u001b[0m \u001b[0mvalues\u001b[0m \u001b[1;33m=\u001b[0m \u001b[0msenti_results\u001b[0m\u001b[1;33m.\u001b[0m\u001b[0mvalues\u001b[0m\u001b[1;33m(\u001b[0m\u001b[1;33m)\u001b[0m\u001b[1;33m\u001b[0m\u001b[1;33m\u001b[0m\u001b[0m\n\u001b[0;32m      4\u001b[0m \u001b[1;33m\u001b[0m\u001b[0m\n\u001b[0;32m      5\u001b[0m \u001b[1;31m#\u001b[0m\u001b[1;33m\u001b[0m\u001b[1;33m\u001b[0m\u001b[1;33m\u001b[0m\u001b[0m\n",
      "\u001b[1;31mNameError\u001b[0m: name 'senti_results' is not defined"
     ]
    }
   ],
   "source": [
    "\n",
    "keys = senti_results.keys()\n",
    "values = senti_results.values()\n",
    "\n",
    "#\n",
    "figure(num=None, figsize=(8,8),dpi=80)\n",
    "colors = ['seagreen','lightsteelblue','indianred','silver']\n",
    "explode = (0.1, 0, 0, 0)\n",
    "plt.rcParams.update({'font.size': 12})\n",
    "#\n",
    "plt.subplot(221)\n",
    "plt.pie(values,labels=keys,colors=colors, explode=explode,autopct='%1.1f%%',shadow=True,startangle=90)\n",
    "plt.title('Overall Sentiment Tweets, by Percentage',bbox={'facecolor':'1','pad':8},y=1.10)\n",
    "#\n",
    "plt.subplot(222)\n",
    "plt.title('Tweets Count by Sentiment Result',bbox={'facecolor':'1','pad':8},y=1.10)\n",
    "plt.bar(keys,values,width=.8,color=colors)\n",
    "#\n",
    "plt.subplots_adjust(left=0.125, bottom=0.1, right=1.8, top=1.3, wspace=0.2, hspace=0.2)\n",
    "#\n",
    "plt.show()"
   ]
  },
  {
   "cell_type": "code",
   "execution_count": null,
   "metadata": {},
   "outputs": [],
   "source": []
  }
 ]
}